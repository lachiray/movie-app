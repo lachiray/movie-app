{
 "cells": [
  {
   "cell_type": "markdown",
   "id": "b8bf9c36-d355-466e-948e-f149a33c6d57",
   "metadata": {},
   "source": [
    "## This homework assesses your ability of building and deploying your applications. \n",
    "\n",
    "\n",
    "`start date: Nov 22nd 11:59 PM` <br>\n",
    "`due date: Dec 5th 11:59 PM`\n",
    "\n",
    "### Make sure you submitted your submissions to BrightSpace.\n",
    "\n",
    "`Total credits:  63/53`\n",
    "\n",
    "You're welcome to share your thoughts about the homework and the course materials here: https://forms.gle/Kd9AoUZwkMiF8Vx5A"
   ]
  },
  {
   "cell_type": "markdown",
   "id": "de13abfd-02f2-4474-a1ef-58840c6559ce",
   "metadata": {},
   "source": [
    "# P1: File path related questions\n",
    "\n",
    "In the following structure, `project`, `data`, and `scripts` are folder names. `my_notebook.ipynb` is the Jupyter Notebook you used to create these folders.\n",
    "\n",
    "```python\n",
    "project/\n",
    "    data/\n",
    "        file_name.csv\n",
    "    scripts/\n",
    "        script.py\n",
    "my_notebook.ipynb  \n",
    "\n",
    "```"
   ]
  },
  {
   "cell_type": "markdown",
   "id": "5d02fdc1-83f6-410d-8688-26940b73221e",
   "metadata": {},
   "source": [
    "`P1.1   3 pts` Suppose I'm currently at the same level as the project folder, meaning I am outside the project folder but within the same parent directory. I want to open the file_name.csv file using the following code written in my my_notebook.ipynb:\n",
    "\n",
    "```python\n",
    "df = pd.read_csv('file_name.csv')\n",
    "\n",
    "```\n",
    "Will this code work? If not, how should I revise it? "
   ]
  },
  {
   "cell_type": "markdown",
   "id": "2506032b-bfa4-4ff7-9bb2-e7e578cd8cf2",
   "metadata": {},
   "source": [
    "No, the code won't work because the file is inside the project/data/ folder, while the notebook is outside the project folder. Update the code to provide the correct relative path:\n",
    "\n",
    "df = pd.read_csv('project/data/file_name.csv')"
   ]
  },
  {
   "cell_type": "markdown",
   "id": "8fbbbddc-b64b-43ea-bf16-45874a416597",
   "metadata": {},
   "source": [
    "`p1.2 3 pts`  Suppose you are now in the `data` folder, and you want to re-write your `script.py` file using the `%%writefile` method while reflecting all your actions (e.g., cd commands, file path changes) within the `my_notebook.ipynb` file. Can you demonstrate how you would accomplish this?"
   ]
  },
  {
   "cell_type": "code",
   "execution_count": null,
   "id": "bceb9777",
   "metadata": {},
   "outputs": [],
   "source": [
    "# Step 1: Verify current working directory\n",
    "import os\n",
    "print(os.getcwd())  # To confirm we are in the `data` folder\n",
    "\n",
    "# Step 2: Navigate to the `scripts` folder to ensure correct file location\n",
    "os.chdir('../scripts/')  # Move to the scripts folder from the data folder\n",
    "print(os.getcwd())  # Confirm we are now in the `scripts` folder\n",
    "\n",
    "# Step 3: Use %%writefile to write the script\n",
    "%%writefile script.py\n",
    "\n",
    "def greet(name):\n",
    "    return f\"Hello, {name}!\"\n",
    "\n",
    "if __name__ == \"__main__\":\n",
    "    print(greet(\"World\"))\n",
    "\n",
    "# Step 4: Navigate back to the `data` folder if needed\n",
    "os.chdir('../data/')  # Return to the data folder\n",
    "print(os.getcwd())  # Confirm we are back in the `data` folder"
   ]
  },
  {
   "cell_type": "markdown",
   "id": "6e46ae47-39a8-40c6-bbe3-ba105b7072ce",
   "metadata": {},
   "source": [
    "`p1.3 3 pts`  Suppose you are outside of the `project` folder but still within the same parent directory, and you want to re-write your `script.py` file using the `%%writefile` method while reflecting all your actions (e.g., cd commands, file path changes) within the `my_notebook.ipynb` file. Can you demonstrate how you would accomplish this? Assume you did everything within your `my_notebook.ipynb`. "
   ]
  },
  {
   "cell_type": "code",
   "execution_count": null,
   "id": "e95893bc",
   "metadata": {},
   "outputs": [],
   "source": [
    "# Step 1: Verify the current working directory\n",
    "import os\n",
    "print(os.getcwd())  # Confirm that you are outside the `project` folder\n",
    "\n",
    "# Step 2: Change to the `scripts` folder inside `project`\n",
    "os.chdir('project/scripts')  # Navigate to the `scripts` folder\n",
    "print(os.getcwd())  # Verify that you are now in the `scripts` folder\n",
    "\n",
    "# Step 3: Use %%writefile to write the `script.py` file\n",
    "%%writefile script.py\n",
    "def greet(name):\n",
    "    return f\"Hello, {name}!\"\n",
    "\n",
    "if __name__ == \"__main__\":\n",
    "    print(greet(\"World\"))\n",
    "\n",
    "# Step 4: Navigate back to the original directory (outside `project`)\n",
    "os.chdir('../../')  # Move back to the original directory\n",
    "print(os.getcwd())  # Confirm you are back in the original location"
   ]
  },
  {
   "cell_type": "markdown",
   "id": "27464784-90e2-4766-99cb-d09e1b0d5414",
   "metadata": {},
   "source": [
    "`p1.4 3 pts` Suppose you are outside of the project folder but still within the same parent directory, and you want to create a sub-folder named `test_data` under the `data` folder. Can you demonstrate how you would accomplish this? Assume you did everything within your `my_notebook.ipynb`. "
   ]
  },
  {
   "cell_type": "code",
   "execution_count": null,
   "id": "cf54474d",
   "metadata": {},
   "outputs": [],
   "source": [
    "# Step 1: Verify the current working directory\n",
    "import os\n",
    "print(os.getcwd())  \n",
    "\n",
    "# Step 2: Define the path for the `test_data` folder\n",
    "test_data_path = os.path.join('project', 'data', 'test_data')\n",
    "\n",
    "# Step 3: Create the `test_data` folder\n",
    "os.makedirs(test_data_path, exist_ok=True)  \n",
    "\n",
    "# Step 4: Confirm the folder was created\n",
    "print(f\"Folder 'test_data' created at: {os.path.abspath(test_data_path)}\")"
   ]
  },
  {
   "cell_type": "markdown",
   "id": "b338981d-b48f-4188-8d67-4e6c6eae0fd0",
   "metadata": {},
   "source": [
    "`p1.5 5 pts` Suppose you are outside of the project folder but still within the same parent directory, and you want to import your script.py file as a module. Your `script.py` file as the following contents:\n",
    "\n",
    "```python\n",
    "df = pd.read_csv('file_name.csv')\n",
    "```\n",
    "\n",
    "You have used the following codes to do the import within your `my_notebook.ipynb` file:\n",
    "\n",
    "```python\n",
    "import script\n",
    "```\n",
    "\n",
    "What are the issues with the script.py file ifself and also the way to import it? Explain bellow and fix it yourself. "
   ]
  },
  {
   "cell_type": "markdown",
   "id": "5af4fc62-80cd-422d-ae9f-effa2d5ed309",
   "metadata": {},
   "source": [
    "\n",
    "- script.py Issues:\n",
    "Directly executes pd.read_csv during import, which is bad practice.\n",
    "Assumes the CSV file is in the current working directory, causing errors if the script is imported from a different directory.\n",
    "- Import Issues:\n",
    "import script fails because Python doesn’t know the project/scripts folder location. It’s not in the sys.path."
   ]
  },
  {
   "cell_type": "code",
   "execution_count": null,
   "id": "09be5b1e",
   "metadata": {},
   "outputs": [],
   "source": [
    "# Updated script.py\n",
    "\n",
    "import pandas as pd\n",
    "import os\n",
    "\n",
    "def load_csv(file_name):\n",
    "    \"\"\"Load a CSV file from the 'data' folder.\"\"\"\n",
    "    file_path = os.path.join('..', 'data', file_name)\n",
    "    if os.path.exists(file_path):\n",
    "        return pd.read_csv(file_path)\n",
    "    else:\n",
    "        raise FileNotFoundError(f\"'{file_name}' not found at '{file_path}'\")\n"
   ]
  },
  {
   "cell_type": "code",
   "execution_count": null,
   "id": "aaf8e8b5",
   "metadata": {},
   "outputs": [],
   "source": [
    "# Import and Usage in my_notebook.ipynb\n",
    "\n",
    "import os\n",
    "import sys\n",
    "\n",
    "# Add the scripts folder to sys.path\n",
    "sys.path.append(os.path.join('project', 'scripts'))\n",
    "\n",
    "# Import and use the script module\n",
    "import script\n",
    "df = script.load_csv('file_name.csv')\n"
   ]
  },
  {
   "cell_type": "markdown",
   "id": "e4e1c3b8-037e-4a6a-9b76-6dcd616e315e",
   "metadata": {},
   "source": [
    "`p1.6 6 pts` Suppose you are outside of the project folder but still within the same parent directory, and you want to first import the class `clean_data`  from `script.py`, and then create an instance of the class. Your `script.py` file as the following contents:\n",
    "\n",
    "```python\n",
    "class clean_data:\n",
    "\n",
    "    def __init__(self):\n",
    "        df = pd.read_csv(`file_name.csv`)\n",
    "```\n",
    "\n",
    "You have used the following codes to import and create instance:\n",
    "\n",
    "```python\n",
    "import script\n",
    "\n",
    "clean_data = clean_data()\n",
    "\n",
    "```\n",
    "\n",
    "What are the issues with the script.py file ifself(1 issue ) and also the way to import it (2 issues)  and create instance(1 issue) ? Explain bellow and fix it yourself. "
   ]
  },
  {
   "cell_type": "markdown",
   "id": "43c2b148",
   "metadata": {},
   "source": [
    "- Issue with script.py:\n",
    "Hardcoded CSV file path in the constructor: The __init__ method directly reads file_name.csv without flexibility. This will fail if the file isn't in the working directory when the script runs or if a different file is needed.\n",
    "- Issues with Import:\n",
    "clean_data class not accessed correctly: The class is inside script.py, so it must be referenced as script.clean_data.\n",
    "Module location issue: Python doesn’t know where project/scripts/script.py is, so you need to add it to sys.path.\n",
    "- Issue with Instance Creation:\n",
    "Shadowing the class name: The instance clean_data = clean_data() redefines clean_data as an instance, making the class inaccessible afterward."
   ]
  },
  {
   "cell_type": "code",
   "execution_count": null,
   "id": "cb654992",
   "metadata": {},
   "outputs": [],
   "source": [
    "# Updated script.py\n",
    "\n",
    "import pandas as pd\n",
    "import os\n",
    "\n",
    "class clean_data:\n",
    "    def __init__(self, file_name):\n",
    "        file_path = os.path.join('..', 'data', file_name)\n",
    "        if os.path.exists(file_path):\n",
    "            self.df = pd.read_csv(file_path)\n",
    "        else:\n",
    "            raise FileNotFoundError(f\"'{file_name}' not found at '{file_path}'\")"
   ]
  },
  {
   "cell_type": "code",
   "execution_count": null,
   "id": "598aaf9d",
   "metadata": {},
   "outputs": [],
   "source": [
    "# Import and Usage in my_notebook.ipynb:\n",
    "\n",
    "import os\n",
    "import sys\n",
    "\n",
    "# Step 1: Add the scripts folder to sys.path\n",
    "sys.path.append(os.path.join('project', 'scripts'))\n",
    "\n",
    "# Step 2: Import the clean_data class\n",
    "from script import clean_data\n",
    "\n",
    "# Step 3: Create an instance of the class\n",
    "cleaner = clean_data('file_name.csv')"
   ]
  },
  {
   "cell_type": "markdown",
   "id": "de64ff01-a082-45e9-8c43-9f26bd13cf2f",
   "metadata": {},
   "source": [
    "# P2. `30 pts` Coding challenges (Individual version)\n",
    "\n",
    "For this question, you will build a movie recommendation system using K-Nearest Neighbors (KNN) and create a webpage interface with Streamlit. The Streamlit webpage should allow the user to input a movie name they have watched before, and based on that input, the system will recommend 4 similar movies. Additionally, you will deploy your Streamlit app on AWS EC2.\n",
    "\n",
    "For this question, I will place fewer restrictions on the choice of data and features, allowing you to mimic real-world decision-making as data professionals. In previous assignments, I guided you step-by-step to teach you how to correctly code each small part. Now that you’ve gained those foundational skills, this assignment will focus more on exercising your ability to design and solve problems independently.\n",
    "\n",
    "You are free to use any dataset you like for this assignment. The movie dataset from HW8 is sufficient, but you are welcome to explore and use other datasets if you prefer.\n",
    "\n",
    "Your final submission should include:\n",
    "\n",
    "- A screenshot of the Streamlit webpage displaying your app and its recommendations.\n",
    "- The source code used to create the application.\n",
    "\n",
    "`Bonus 10 pts` use a pre-trained LLM model to add a short description to the movie provided by the user. \n"
   ]
  },
  {
   "cell_type": "code",
   "execution_count": 8,
   "id": "27add8e6-9a9b-4c01-b05c-c3c3e01b62c2",
   "metadata": {},
   "outputs": [
    {
     "name": "stdout",
     "output_type": "stream",
     "text": [
      "Writing movies.py\n"
     ]
    }
   ],
   "source": [
    "%%writefile movies.py\n",
    "\n",
    "from sklearn.preprocessing import MultiLabelBinarizer, MinMaxScaler\n",
    "import pandas as pd\n",
    "import numpy as np\n",
    "import joblib\n",
    "\n",
    "# Load the dataset\n",
    "movies = pd.read_csv('movies.csv')\n",
    "\n",
    "# Handle missing values\n",
    "movies['genres'] = movies['genres'].fillna('')\n",
    "movies['vote_average'] = movies['vote_average'].fillna(0)\n",
    "\n",
    "# One-hot encode genres\n",
    "movies['genres'] = movies['genres'].apply(lambda x: x.split(' '))\n",
    "mlb = MultiLabelBinarizer()\n",
    "genres_encoded = pd.DataFrame(mlb.fit_transform(movies['genres']), columns=mlb.classes_)\n",
    "\n",
    "# Normalize the `vote_average` column\n",
    "scaler = MinMaxScaler()\n",
    "movies['vote_average_scaled'] = scaler.fit_transform(movies[['vote_average']])\n",
    "\n",
    "# Combine the features\n",
    "feature_matrix = pd.concat([genres_encoded, movies['vote_average_scaled']], axis=1)\n",
    "feature_matrix = feature_matrix.fillna(0)\n",
    "\n",
    "# Save the feature matrix for the app\n",
    "joblib.dump(feature_matrix, 'movie_features.pkl')\n",
    "\n",
    "from sklearn.neighbors import NearestNeighbors\n",
    "\n",
    "# Convert feature matrix to a NumPy array\n",
    "feature_matrix_np = feature_matrix.to_numpy()\n",
    "\n",
    "# Train the KNN model\n",
    "knn = NearestNeighbors(metric='cosine', algorithm='brute')\n",
    "knn.fit(feature_matrix_np)\n",
    "\n",
    "# Save the KNN model\n",
    "joblib.dump(knn, 'knn_model.pkl')\n",
    "\n",
    "import streamlit as st\n",
    "import joblib\n",
    "import pandas as pd\n",
    "from sklearn.neighbors import NearestNeighbors\n",
    "\n",
    "# Load data and models\n",
    "movies = pd.read_csv('movies.csv')\n",
    "feature_matrix = joblib.load('movie_features.pkl')\n",
    "knn = joblib.load('knn_model.pkl')\n",
    "\n",
    "# Streamlit interface\n",
    "st.title(\"Movie Recommendation System\")\n",
    "movie_name = st.text_input(\"Enter a movie name you've watched:\")\n",
    "\n",
    "if movie_name:\n",
    "    try:\n",
    "        # Find the index of the input movie\n",
    "        movie_index = movies[movies['title'].str.contains(movie_name, case=False, na=False)].index[0]\n",
    "        distances, indices = knn.kneighbors([feature_matrix.iloc[movie_index]], n_neighbors=5)\n",
    "        \n",
    "        # Get recommended movies\n",
    "        recommendations = movies.iloc[indices[0][1:]]['title']\n",
    "        st.write(\"Movies you might like:\")\n",
    "        for rec in recommendations:\n",
    "            st.write(f\"- {rec}\")\n",
    "    except IndexError:\n",
    "        st.error(\"Movie not found. Please try another.\")\n"
   ]
  }
 ],
 "metadata": {
  "kernelspec": {
   "display_name": "base",
   "language": "python",
   "name": "python3"
  },
  "language_info": {
   "codemirror_mode": {
    "name": "ipython",
    "version": 3
   },
   "file_extension": ".py",
   "mimetype": "text/x-python",
   "name": "python",
   "nbconvert_exporter": "python",
   "pygments_lexer": "ipython3",
   "version": "3.12.7"
  }
 },
 "nbformat": 4,
 "nbformat_minor": 5
}
